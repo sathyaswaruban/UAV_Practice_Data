{
 "cells": [
  {
   "cell_type": "code",
   "execution_count": 79,
   "id": "67c0c483-7395-454f-aa28-393f30bd7a6b",
   "metadata": {},
   "outputs": [],
   "source": [
    "##TASK 1 Read all the files in the Python environment and append all the three versions for experiment data\n",
    "# and blade geometry data. Now, you have two datasets that contain all the information\n",
    "import csv\n",
    "with open('experiment_vol1.csv','r',newline='',encoding='utf-8') as f1, \\\n",
    "     open('experiment_vol2.csv','r',newline='',encoding='utf-8') as f2, \\\n",
    "     open('experiment_vol3.csv','r',newline='',encoding='utf-8') as f3, \\\n",
    "     open('Combined_experiment_vol.csv','w',newline='',encoding='utf-8') as f4:\n",
    "    read1 = csv.reader(f1)\n",
    "    read2 = csv.reader(f2)\n",
    "    read3 = csv.reader(f3)\n",
    "    write = csv.writer(f4)\n",
    "    header = False\n",
    "    for row in read1:\n",
    "            if not header:\n",
    "                write.writerow(row)  \n",
    "                header = True\n",
    "            else:\n",
    "                write.writerow(row)  \n",
    "    for row in read2:\n",
    "            if read2.line_num > 1:  \n",
    "                write.writerow(row)\n",
    "    for row in read3:\n",
    "            if read3.line_num > 1:  \n",
    "                write.writerow(row)\n"
   ]
  },
  {
   "cell_type": "code",
   "execution_count": 93,
   "id": "7e8d9ee4-7a76-4f77-b042-8b66c33706ba",
   "metadata": {},
   "outputs": [],
   "source": [
    "with open('geom_vol1.csv','r',newline='',encoding='utf-8') as f1, \\\n",
    "     open('geom_vol2.csv','r',newline='',encoding='utf-8') as f2, \\\n",
    "     open('geom_vol3.csv','r',newline='',encoding='utf-8') as f3, \\\n",
    "     open('Combined_geom_vol.csv','w',newline='',encoding='utf-8') as f4:\n",
    "    read1 = csv.reader(f1)\n",
    "    read2 = csv.reader(f2)\n",
    "    read3 = csv.reader(f3)\n",
    "    write = csv.writer(f4)\n",
    "    header = False\n",
    "    for row in read1:\n",
    "            if not header:\n",
    "                write.writerow(row)  \n",
    "                header = True\n",
    "            else:\n",
    "                write.writerow(row)  \n",
    "    for row in read2:\n",
    "            if read2.line_num > 1:  \n",
    "                write.writerow(row)\n",
    "    for row in read3:\n",
    "            if read3.line_num > 1:  \n",
    "                write.writerow(row)"
   ]
  },
  {
   "cell_type": "code",
   "execution_count": 83,
   "id": "c6dce9fa-c877-4334-9457-7939a2598fea",
   "metadata": {},
   "outputs": [],
   "source": [
    "# Change the variable names in line with Python identifier naming convention."
   ]
  },
  {
   "cell_type": "code",
   "execution_count": 120,
   "id": "e3f98608-994e-42f8-8d73-203e13b9ce09",
   "metadata": {},
   "outputs": [],
   "source": [
    "with open('Combined_geom_vol.csv','r',newline='',encoding='utf-8') as f1:\n",
    "    read = csv.reader(f1)\n",
    "    header = next(read)\n",
    "    new_column_names = ['Blades_name','Propellers_brand','Propellers_diameter','Propellers_pitch','Adimensional_chord_c/R','Adimensional_radius_r/R','Beta_angle_relative_to_motion']\n",
    "    if len(header) != len(new_column_names):\n",
    "        print('Error')\n",
    "        \n",
    "    with open('Geom_all_vol_crt_names.csv','w',newline='',encoding='utf-8')as f2:\n",
    "        write=csv.writer(f2)\n",
    "        write.writerow(new_column_names)\n",
    "        for row in read:\n",
    "            write.writerow(row)"
   ]
  },
  {
   "cell_type": "code",
   "execution_count": 122,
   "id": "52b834b4-d86d-48fa-a7c2-65a395babe67",
   "metadata": {},
   "outputs": [],
   "source": [
    "with open('Combined_experiment_vol.csv','r',newline='',encoding='utf-8') as f1:\n",
    "    read = csv.reader(f1)\n",
    "    header = next(read)\n",
    "    new_column_names = ['Propellers_Name','Blades_Name','Propellers_Brand','No_of_Blades','Propellers_Diameter','Propellers_Pitch','Advanced_Ratio_Input','RPM_Rotation_Input','Thrust_Coefficient_Output','Power_Coefficient_Output','Efficiency_Output']\n",
    "    if len(header) != len(new_column_names):\n",
    "        print('Error')\n",
    "        \n",
    "    with open('Experiment_all_vol_crt_names.csv','w',newline='',encoding='utf-8')as f2:\n",
    "        write=csv.writer(f2)\n",
    "        write.writerow(new_column_names)\n",
    "        for row in read:\n",
    "            write.writerow(row)"
   ]
  },
  {
   "cell_type": "code",
   "execution_count": 1,
   "id": "eeb946e9-162b-4ae8-89ad-eb3e078b3258",
   "metadata": {},
   "outputs": [],
   "source": [
    "# Adimensional Radius and Adimensional Chord values are provided. Multiplying these values with\n",
    "# Radius(R) of the blade will give you radius and chord distributions. Find these distributions for all the\n",
    "# blades of all the propellers. Picture provided below shows a propeller with three blades.\n"
   ]
  },
  {
   "cell_type": "code",
   "execution_count": 5,
   "id": "44108874-0132-407a-8b74-5a255d6f6ef9",
   "metadata": {},
   "outputs": [],
   "source": [
    "import pandas as pd\n",
    "\n",
    "df = pd.read_csv('Geom_all_vol_crt_names.csv')\n",
    "radius = df['Propellers_diameter']/2\n",
    "df ['Radius'] = radius * df['Adimensional_radius_r/R']\n",
    "df ['Chord'] = radius * df ['Adimensional_chord_c/R']\n",
    "df.to_csv('Geom_with_chord_radius_value.csv',index = False)"
   ]
  },
  {
   "cell_type": "code",
   "execution_count": 11,
   "id": "53dd8c57-40aa-4f15-85b5-f2222b6d13b4",
   "metadata": {},
   "outputs": [],
   "source": [
    "# For each propeller, find out the area of each blade and total area of all the blades. For this\n",
    "# calculation, chord and radius values are used. Mathematically, definite integration techniques help\n",
    "# to perform this calculation. Explore numpy.trapz for this calculation. This function helps to perform\n",
    "# integration along the given axis using the composite trapezoidal rule\n",
    "import pandas as pd\n",
    "from numpy import trapz as np\n",
    "df = pd.read_csv('Geom_with_chord_radius_value.csv')\n",
    "df['Area_of_blade'] = np(df['Chord'],x=df['Radius'])\n",
    "df.to_csv('Geom_with_chord_radius_value.csv',index = False)"
   ]
  },
  {
   "cell_type": "code",
   "execution_count": null,
   "id": "74943ca2-fa09-464e-a58e-f0065eb8523f",
   "metadata": {},
   "outputs": [],
   "source": []
  }
 ],
 "metadata": {
  "kernelspec": {
   "display_name": "Python 3 (ipykernel)",
   "language": "python",
   "name": "python3"
  },
  "language_info": {
   "codemirror_mode": {
    "name": "ipython",
    "version": 3
   },
   "file_extension": ".py",
   "mimetype": "text/x-python",
   "name": "python",
   "nbconvert_exporter": "python",
   "pygments_lexer": "ipython3",
   "version": "3.12.3"
  }
 },
 "nbformat": 4,
 "nbformat_minor": 5
}
